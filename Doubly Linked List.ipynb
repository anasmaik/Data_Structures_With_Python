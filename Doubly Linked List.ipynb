{
 "cells": [
  {
   "cell_type": "markdown",
   "id": "1d3c87a0",
   "metadata": {},
   "source": [
    "## Doubly Linked List Implementation"
   ]
  },
  {
   "cell_type": "code",
   "execution_count": 1,
   "id": "d0f8abba",
   "metadata": {},
   "outputs": [],
   "source": [
    "class Node:\n",
    "    def __init__(self, value):\n",
    "        self.value = value\n",
    "        self.next = None\n",
    "        self.prev = None\n",
    "        \n",
    "\n",
    "class DoublyLinkedList:\n",
    "    def __init__(self, value):\n",
    "        new_node = Node(value)\n",
    "        self.head = new_node\n",
    "        self.tail = new_node\n",
    "        self.length = 1\n",
    "\n",
    "    def print_list(self):\n",
    "        temp = self.head\n",
    "        while temp is not None:\n",
    "            print(temp.value)\n",
    "            temp = temp.next\n",
    "        \n",
    "    def append(self, value):\n",
    "        new_node = Node(value)\n",
    "        if self.head is None:\n",
    "            self.head = new_node\n",
    "            self.tail = new_node\n",
    "        else:\n",
    "            self.tail.next = new_node\n",
    "            new_node.prev = self.tail\n",
    "            self.tail = new_node\n",
    "        self.length += 1\n",
    "        return True\n",
    "\n",
    "    def pop(self):\n",
    "        if self.length == 0:\n",
    "            return None\n",
    "        temp = self.tail\n",
    "        if self.length == 1:\n",
    "            self.head = None\n",
    "            self.tail = None \n",
    "        else:       \n",
    "            self.tail = self.tail.prev\n",
    "            self.tail.next = None\n",
    "            temp.prev = None\n",
    "        self.length -= 1\n",
    "        return temp\n",
    "\n",
    "    def prepend(self, value):\n",
    "        new_node = Node(value)\n",
    "        if self.length == 0:\n",
    "            self.head = new_node\n",
    "            self.tail = new_node\n",
    "        else:\n",
    "            new_node.next = self.head\n",
    "            self.head.prev = new_node\n",
    "            self.head = new_node\n",
    "        self.length += 1\n",
    "        return True\n",
    "\n",
    "    def pop_first(self):\n",
    "        if self.length == 0:\n",
    "            return None\n",
    "        temp = self.head\n",
    "        if self.length == 1:\n",
    "            self.head = None\n",
    "            self.tail = None\n",
    "        else:\n",
    "            self.head = self.head.next\n",
    "            self.head.prev = None\n",
    "            temp.next = None      \n",
    "        self.length -= 1\n",
    "        return temp\n",
    "\n",
    "    def get(self, index):\n",
    "        if index < 0 or index >= self.length:\n",
    "            return None\n",
    "        temp = self.head\n",
    "        if index < self.length/2:\n",
    "            for _ in range(index):\n",
    "                temp = temp.next\n",
    "        else:\n",
    "            temp = self.tail\n",
    "            for _ in range(self.length - 1, index, -1):\n",
    "                temp = temp.prev  \n",
    "        return temp\n",
    "        \n",
    "    def set_value(self, index, value):\n",
    "        temp = self.get(index)\n",
    "        if temp:\n",
    "            temp.value = value\n",
    "            return True\n",
    "        return False\n",
    "    \n",
    "    def insert(self, index, value):\n",
    "        if index < 0 or index > self.length:\n",
    "            return False\n",
    "        if index == 0:\n",
    "            return self.prepend(value)\n",
    "        if index == self.length:\n",
    "            return self.append(value)\n",
    "\n",
    "        new_node = Node(value)\n",
    "        before = self.get(index - 1)\n",
    "        after = before.next\n",
    "\n",
    "        new_node.prev = before\n",
    "        new_node.next = after\n",
    "        before.next = new_node\n",
    "        after.prev = new_node\n",
    "        \n",
    "        self.length += 1   \n",
    "        return True  \n",
    "\n",
    "    def remove(self,index):\n",
    "        if index<0 or index>=self.length:\n",
    "            return None\n",
    "        if index==0:\n",
    "            return self.pop_first()\n",
    "        if index==self.length-1:\n",
    "            return self.pop()\n",
    "        temp=self.get(index)\n",
    "        before=temp.prev\n",
    "        after=temp.next\n",
    "        before.next=after\n",
    "        after.prev=before\n",
    "        temp.next=None\n",
    "        temp.prev=None\n",
    "        self.length-=1\n",
    "        return temp\n",
    "\n",
    "\n",
    "\n",
    "\n"
   ]
  },
  {
   "cell_type": "code",
   "execution_count": 2,
   "id": "a86c5896",
   "metadata": {},
   "outputs": [
    {
     "name": "stdout",
     "output_type": "stream",
     "text": [
      "DLL before remove():\n",
      "1\n",
      "2\n",
      "3\n",
      "4\n",
      "5\n"
     ]
    }
   ],
   "source": [
    "my_doubly_linked_list = DoublyLinkedList(1)\n",
    "my_doubly_linked_list.append(2)\n",
    "my_doubly_linked_list.append(3)\n",
    "my_doubly_linked_list.append(4)\n",
    "my_doubly_linked_list.append(5)\n",
    "\n",
    "print('DLL before remove():')\n",
    "my_doubly_linked_list.print_list()\n",
    "\n",
    "\n"
   ]
  },
  {
   "cell_type": "code",
   "execution_count": 3,
   "id": "254b7ffe",
   "metadata": {},
   "outputs": [
    {
     "name": "stdout",
     "output_type": "stream",
     "text": [
      "\n",
      "Removed node:\n",
      "3\n",
      "DLL after remove() in middle:\n",
      "1\n",
      "2\n",
      "4\n",
      "5\n"
     ]
    }
   ],
   "source": [
    "print('\\nRemoved node:')\n",
    "print(my_doubly_linked_list.remove(2).value)\n",
    "print('DLL after remove() in middle:')\n",
    "my_doubly_linked_list.print_list()\n",
    "\n"
   ]
  },
  {
   "cell_type": "code",
   "execution_count": 4,
   "id": "918444dd",
   "metadata": {},
   "outputs": [
    {
     "name": "stdout",
     "output_type": "stream",
     "text": [
      "\n",
      "Removed node:\n",
      "1\n",
      "DLL after remove() of first node:\n",
      "2\n",
      "4\n",
      "5\n"
     ]
    }
   ],
   "source": [
    "print('\\nRemoved node:')\n",
    "print(my_doubly_linked_list.remove(0).value)\n",
    "print('DLL after remove() of first node:')\n",
    "my_doubly_linked_list.print_list()\n",
    "\n"
   ]
  },
  {
   "cell_type": "code",
   "execution_count": 5,
   "id": "efc2a995",
   "metadata": {},
   "outputs": [
    {
     "name": "stdout",
     "output_type": "stream",
     "text": [
      "\n",
      "Removed node:\n",
      "5\n",
      "DLL after remove() of last node:\n",
      "2\n",
      "4\n"
     ]
    }
   ],
   "source": [
    "print('\\nRemoved node:')\n",
    "print(my_doubly_linked_list.remove(2).value)\n",
    "print('DLL after remove() of last node:')\n",
    "my_doubly_linked_list.print_list()"
   ]
  },
  {
   "cell_type": "code",
   "execution_count": null,
   "id": "4549afbe",
   "metadata": {},
   "outputs": [],
   "source": []
  }
 ],
 "metadata": {
  "kernelspec": {
   "display_name": "Python 3 (ipykernel)",
   "language": "python",
   "name": "python3"
  },
  "language_info": {
   "codemirror_mode": {
    "name": "ipython",
    "version": 3
   },
   "file_extension": ".py",
   "mimetype": "text/x-python",
   "name": "python",
   "nbconvert_exporter": "python",
   "pygments_lexer": "ipython3",
   "version": "3.11.5"
  }
 },
 "nbformat": 4,
 "nbformat_minor": 5
}
