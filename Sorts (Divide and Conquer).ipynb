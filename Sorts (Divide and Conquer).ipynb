{
 "cells": [
  {
   "cell_type": "markdown",
   "id": "a488ae4c",
   "metadata": {},
   "source": [
    "## Merge and Quick sort"
   ]
  },
  {
   "cell_type": "code",
   "execution_count": 1,
   "id": "5ca58468",
   "metadata": {},
   "outputs": [],
   "source": [
    "# Merge Sort\n",
    "def merge(array1, array2):\n",
    "    combined = []\n",
    "    i = 0\n",
    "    j = 0\n",
    "    while i < len(array1) and j < len(array2):\n",
    "        if array1[i] < array2[j]:\n",
    "            combined.append(array1[i])\n",
    "            i += 1\n",
    "        else:\n",
    "            combined.append(array2[j])\n",
    "            j += 1\n",
    "              \n",
    "    while i < len(array1):\n",
    "        combined.append(array1[i])\n",
    "        i += 1\n",
    "\n",
    "    while j < len(array2):\n",
    "        combined.append(array2[j])\n",
    "        j += 1\n",
    "\n",
    "    return combined\n",
    "\n",
    "\n",
    "def merge_sort(mylist):\n",
    "    if len(mylist)==1:\n",
    "        return mylist\n",
    "    mid_index=int(len(mylist)/2)\n",
    "    left=merge_sort(mylist[:mid_index])\n",
    "    right=merge_sort(mylist[mid_index:])\n",
    "    return merge(left,right)"
   ]
  },
  {
   "cell_type": "code",
   "execution_count": 2,
   "id": "8666e12b",
   "metadata": {},
   "outputs": [],
   "source": [
    "# Quick sort\n",
    "def swap(my_list, index1, index2):\n",
    "    temp = my_list[index1]\n",
    "    my_list[index1] = my_list[index2]\n",
    "    my_list[index2] = temp\n",
    "\n",
    "\n",
    "def pivot(my_list, pivot_index, end_index):\n",
    "    swap_index = pivot_index\n",
    "\n",
    "    for i in range(pivot_index+1, end_index+1):\n",
    "        if my_list[i] < my_list[pivot_index]:\n",
    "            swap_index += 1\n",
    "            swap(my_list, swap_index, i)\n",
    "    swap(my_list, pivot_index, swap_index)\n",
    "    return swap_index\n",
    "\n",
    "\n",
    "def quick_sort_helper(my_list,left,right):\n",
    "    if left<right:\n",
    "        pivot_index=pivot(my_list,left,right)\n",
    "        quick_sort_helper(my_list,left,pivot_index-1)\n",
    "        quick_sort_helper(my_list,pivot_index+1,right)\n",
    "    return my_list\n",
    "    \n",
    "\n",
    "def quick_sort(my_list):\n",
    "    quick_sort_helper(my_list, 0, len(my_list)-1)\n"
   ]
  },
  {
   "cell_type": "code",
   "execution_count": 4,
   "id": "e41ca7bc",
   "metadata": {},
   "outputs": [
    {
     "name": "stdout",
     "output_type": "stream",
     "text": [
      "[1, 2, 3, 4, 5, 6, 7]\n",
      "\n",
      "\n",
      "[1, 2, 3, 4, 5, 6, 7]\n"
     ]
    }
   ],
   "source": [
    "my_list = [4,6,1,7,3,2,5]\n",
    "\n",
    "print(merge_sort(my_list))\n",
    "print(\"\\n\")\n",
    "quick_sort(my_list)\n",
    "print(my_list)"
   ]
  },
  {
   "cell_type": "code",
   "execution_count": null,
   "id": "206fe79d",
   "metadata": {},
   "outputs": [],
   "source": []
  }
 ],
 "metadata": {
  "kernelspec": {
   "display_name": "Python 3 (ipykernel)",
   "language": "python",
   "name": "python3"
  },
  "language_info": {
   "codemirror_mode": {
    "name": "ipython",
    "version": 3
   },
   "file_extension": ".py",
   "mimetype": "text/x-python",
   "name": "python",
   "nbconvert_exporter": "python",
   "pygments_lexer": "ipython3",
   "version": "3.11.5"
  }
 },
 "nbformat": 4,
 "nbformat_minor": 5
}
