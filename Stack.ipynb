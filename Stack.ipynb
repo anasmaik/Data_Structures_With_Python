{
 "cells": [
  {
   "cell_type": "markdown",
   "id": "49260107",
   "metadata": {},
   "source": [
    "## Stack Implementation"
   ]
  },
  {
   "cell_type": "code",
   "execution_count": 1,
   "id": "388be7fc",
   "metadata": {},
   "outputs": [],
   "source": [
    "class Node:\n",
    "    def __init__(self, value):\n",
    "        self.value = value\n",
    "        self.next = None\n",
    "        \n",
    "\n",
    "class Stack:\n",
    "    def __init__(self, value):\n",
    "        new_node = Node(value)\n",
    "        self.top = new_node\n",
    "        self.height = 1\n",
    "\n",
    "    def print_stack(self):\n",
    "        temp = self.top\n",
    "        while temp is not None:\n",
    "            print(temp.value)\n",
    "            temp = temp.next\n",
    "\n",
    "    def push(self, value):\n",
    "        new_node = Node(value)\n",
    "        if self.height == 0:\n",
    "            self.top = new_node\n",
    "        else:\n",
    "            new_node.next = self.top\n",
    "            self.top = new_node\n",
    "        self.height += 1\n",
    "        return True\n",
    "\n",
    "    def pop(self):\n",
    "        if self.height==0:\n",
    "            return None\n",
    "        temp=self.top\n",
    "        self.top=self.top.next\n",
    "        temp.next=None\n",
    "        self.height-=1\n",
    "        return temp\n",
    "\n"
   ]
  },
  {
   "cell_type": "code",
   "execution_count": 2,
   "id": "b773d993",
   "metadata": {},
   "outputs": [
    {
     "name": "stdout",
     "output_type": "stream",
     "text": [
      "Stack before pop():\n",
      "1\n",
      "2\n",
      "3\n",
      "4\n"
     ]
    }
   ],
   "source": [
    "\n",
    "my_stack = Stack(4)\n",
    "my_stack.push(3)\n",
    "my_stack.push(2)\n",
    "my_stack.push(1)\n",
    "\n",
    "print('Stack before pop():')\n",
    "my_stack.print_stack()"
   ]
  },
  {
   "cell_type": "code",
   "execution_count": 3,
   "id": "541bb8ef",
   "metadata": {},
   "outputs": [
    {
     "name": "stdout",
     "output_type": "stream",
     "text": [
      "\n",
      "Popped node:\n",
      "1\n",
      "\n",
      "Stack after pop():\n",
      "2\n",
      "3\n",
      "4\n"
     ]
    }
   ],
   "source": [
    "print('\\nPopped node:')\n",
    "print(my_stack.pop().value)\n",
    "\n",
    "print('\\nStack after pop():')\n",
    "my_stack.print_stack()"
   ]
  },
  {
   "cell_type": "code",
   "execution_count": null,
   "id": "46472695",
   "metadata": {},
   "outputs": [],
   "source": []
  }
 ],
 "metadata": {
  "kernelspec": {
   "display_name": "Python 3 (ipykernel)",
   "language": "python",
   "name": "python3"
  },
  "language_info": {
   "codemirror_mode": {
    "name": "ipython",
    "version": 3
   },
   "file_extension": ".py",
   "mimetype": "text/x-python",
   "name": "python",
   "nbconvert_exporter": "python",
   "pygments_lexer": "ipython3",
   "version": "3.11.5"
  }
 },
 "nbformat": 4,
 "nbformat_minor": 5
}
