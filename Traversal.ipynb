{
 "cells": [
  {
   "cell_type": "markdown",
   "id": "21ed6361",
   "metadata": {},
   "source": [
    "## BFS and DFS (Pre, Post and Inorder)"
   ]
  },
  {
   "cell_type": "code",
   "execution_count": 12,
   "id": "25434f7f",
   "metadata": {},
   "outputs": [],
   "source": [
    "class Node:\n",
    "    def __init__(self, value):\n",
    "        self.value = value\n",
    "        self.left = None\n",
    "        self.right = None\n",
    "        \n",
    "\n",
    "class BinarySearchTree:\n",
    "    def __init__(self):\n",
    "        self.root = None\n",
    "\n",
    "    def insert(self, value):\n",
    "        new_node = Node(value)\n",
    "        if self.root is None:\n",
    "            self.root = new_node\n",
    "            return True\n",
    "        temp = self.root\n",
    "        while (True):\n",
    "            if new_node.value == temp.value:\n",
    "                return False\n",
    "            if new_node.value < temp.value:\n",
    "                if temp.left is None:\n",
    "                    temp.left = new_node\n",
    "                    return True\n",
    "                temp = temp.left\n",
    "            else: \n",
    "                if temp.right is None:\n",
    "                    temp.right = new_node\n",
    "                    return True\n",
    "                temp = temp.right\n",
    "\n",
    "    def contains(self, value):\n",
    "        if self.root is None:\n",
    "            return False\n",
    "        temp = self.root\n",
    "        while (temp):\n",
    "            if value < temp.value:\n",
    "                temp = temp.left\n",
    "            elif value > temp.value:\n",
    "                temp = temp.right\n",
    "            else:\n",
    "                return True\n",
    "        return False\n",
    "  \n",
    "    def BFS(self):\n",
    "        current_node=self.root\n",
    "        q=[]\n",
    "        result=[]\n",
    "        q.append(current_node)\n",
    "        while len(q)>0:\n",
    "            current_node=q.pop(0)\n",
    "            result.append(current_node.value)\n",
    "            if current_node.left is not None:\n",
    "                q.append(current_node.left)\n",
    "            if current_node.right is not None:\n",
    "                q.append(current_node.right)\n",
    "        return result\n",
    "    def dfs_pre_order(self):\n",
    "        result=[]\n",
    "        def traverse(current_node):\n",
    "            result.append(current_node.value)\n",
    "            if current_node.left is not None:\n",
    "                traverse(current_node.left)\n",
    "            if current_node.right is not None:\n",
    "                traverse(current_node.right)\n",
    "        traverse(self.root)\n",
    "        return result\n",
    "    \n",
    "    def dfs_post_order(self):\n",
    "        result=[]\n",
    "        def traverse(current_node):\n",
    "            if current_node.left is not None:\n",
    "                traverse(current_node.left)\n",
    "            if current_node.right is not None:\n",
    "                traverse(current_node.right)\n",
    "            result.append(current_node.value)\n",
    "        traverse(self.root)\n",
    "        return result\n",
    "    \n",
    "    def dfs_in_order(self):\n",
    "        results = []\n",
    "        def traverse(current_node):\n",
    "            if current_node.left is not None:\n",
    "                traverse(current_node.left)\n",
    "            results.append(current_node.value)\n",
    "            if current_node.right is not None:\n",
    "                traverse(current_node.right)\n",
    "        traverse(self.root)\n",
    "        return results\n",
    "    \n"
   ]
  },
  {
   "cell_type": "code",
   "execution_count": 13,
   "id": "45868b60",
   "metadata": {},
   "outputs": [
    {
     "name": "stdout",
     "output_type": "stream",
     "text": [
      "Breadth First Search\n",
      "[47, 21, 76, 18, 27, 52, 82]\n"
     ]
    }
   ],
   "source": [
    "my_tree = BinarySearchTree()\n",
    "my_tree.insert(47)\n",
    "my_tree.insert(21)\n",
    "my_tree.insert(76)\n",
    "my_tree.insert(18)\n",
    "my_tree.insert(27)\n",
    "my_tree.insert(52)\n",
    "my_tree.insert(82)\n",
    "\n",
    "print(\"Breadth First Search\")\n",
    "print(my_tree.BFS())"
   ]
  },
  {
   "cell_type": "code",
   "execution_count": 14,
   "id": "c2342646",
   "metadata": {},
   "outputs": [
    {
     "name": "stdout",
     "output_type": "stream",
     "text": [
      "Depth First Search : Preorder\n",
      "[47, 21, 18, 27, 76, 52, 82]\n"
     ]
    }
   ],
   "source": [
    "print(\"Depth First Search : Preorder\")\n",
    "print(my_tree.dfs_pre_order())"
   ]
  },
  {
   "cell_type": "code",
   "execution_count": 15,
   "id": "13f8d66c",
   "metadata": {},
   "outputs": [
    {
     "name": "stdout",
     "output_type": "stream",
     "text": [
      "Depth First Search : Postorder\n",
      "[18, 27, 21, 52, 82, 76, 47]\n"
     ]
    }
   ],
   "source": [
    "print(\"Depth First Search : Postorder\")\n",
    "print(my_tree.dfs_post_order())"
   ]
  },
  {
   "cell_type": "code",
   "execution_count": 16,
   "id": "6575357f",
   "metadata": {},
   "outputs": [
    {
     "name": "stdout",
     "output_type": "stream",
     "text": [
      "Depth First Search : Instorder\n",
      "[18, 21, 27, 47, 52, 76, 82]\n"
     ]
    }
   ],
   "source": [
    "print(\"Depth First Search : Instorder\")\n",
    "print(my_tree.dfs_in_order())"
   ]
  },
  {
   "cell_type": "code",
   "execution_count": null,
   "id": "3465da46",
   "metadata": {},
   "outputs": [],
   "source": []
  }
 ],
 "metadata": {
  "kernelspec": {
   "display_name": "Python 3 (ipykernel)",
   "language": "python",
   "name": "python3"
  },
  "language_info": {
   "codemirror_mode": {
    "name": "ipython",
    "version": 3
   },
   "file_extension": ".py",
   "mimetype": "text/x-python",
   "name": "python",
   "nbconvert_exporter": "python",
   "pygments_lexer": "ipython3",
   "version": "3.11.5"
  }
 },
 "nbformat": 4,
 "nbformat_minor": 5
}
