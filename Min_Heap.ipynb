{
 "cells": [
  {
   "cell_type": "markdown",
   "id": "83c46e74",
   "metadata": {},
   "source": [
    "## Min Heap implementation"
   ]
  },
  {
   "cell_type": "code",
   "execution_count": 1,
   "id": "87ed23d4",
   "metadata": {},
   "outputs": [],
   "source": [
    "class MinHeap:\n",
    "    def __init__(self):\n",
    "        self.heap = []\n",
    "\n",
    "    def _left_child(self, index):\n",
    "        return 2 * index + 1\n",
    "\n",
    "    def _right_child(self, index):\n",
    "        return 2 * index + 2\n",
    "\n",
    "    def _parent(self, index):\n",
    "        return (index - 1) // 2\n",
    "\n",
    "    def _swap(self, index1, index2):\n",
    "        self.heap[index1], self.heap[index2] = self.heap[index2], self.heap[index1]\n",
    "\n",
    "    def insert(self, value):\n",
    "        self.heap.append(value)\n",
    "        current = len(self.heap) - 1\n",
    "\n",
    "        while current > 0 and self.heap[current] < self.heap[self._parent(current)]:\n",
    "            self._swap(current, self._parent(current))\n",
    "            current = self._parent(current)\n",
    "\n",
    "    def _sink_down(self,index):\n",
    "        max_index=index\n",
    "        while True:\n",
    "            left_index=self._left_child(index)\n",
    "            right_index=self._right_child(index)\n",
    "            if (left_index<len(self.heap) and self.heap[left_index]<self.heap[max_index]):\n",
    "                max_index=left_index\n",
    "            if (right_index<len(self.heap) and self.heap[right_index]<self.heap[max_index]):\n",
    "                max_index=right_index\n",
    "            if index!=max_index:\n",
    "                self._swap(index,max_index)\n",
    "                index=max_index\n",
    "            else:\n",
    "                return\n",
    "    \n",
    "\n",
    "    def remove(self):\n",
    "        if len(self.heap) == 0:\n",
    "            return None\n",
    "\n",
    "        if len(self.heap) == 1:\n",
    "            return self.heap.pop()\n",
    "\n",
    "        min_value = self.heap[0]\n",
    "        self.heap[0] = self.heap.pop()\n",
    "        self._sink_down(0)\n",
    "\n",
    "        return min_value"
   ]
  },
  {
   "cell_type": "code",
   "execution_count": 2,
   "id": "55eef7ce",
   "metadata": {},
   "outputs": [
    {
     "name": "stdout",
     "output_type": "stream",
     "text": [
      "[2, 6, 4, 12, 8, 10]\n"
     ]
    }
   ],
   "source": [
    "myheap = MinHeap()\n",
    "myheap.insert(12)\n",
    "myheap.insert(10)\n",
    "myheap.insert(8)\n",
    "myheap.insert(6)\n",
    "myheap.insert(4)\n",
    "myheap.insert(2)\n",
    "\n",
    "print(myheap.heap)  "
   ]
  },
  {
   "cell_type": "code",
   "execution_count": 3,
   "id": "eda800df",
   "metadata": {},
   "outputs": [
    {
     "name": "stdout",
     "output_type": "stream",
     "text": [
      "Removed: 2, Heap: [4, 6, 10, 12, 8]\n"
     ]
    }
   ],
   "source": [
    "removed = myheap.remove()\n",
    "print(f'Removed: {removed}, Heap: {myheap.heap}')  "
   ]
  },
  {
   "cell_type": "code",
   "execution_count": 4,
   "id": "ea946d6e",
   "metadata": {},
   "outputs": [
    {
     "name": "stdout",
     "output_type": "stream",
     "text": [
      "Removed: 4, Heap: [6, 8, 10, 12]\n",
      "Removed: 6, Heap: [8, 12, 10]\n"
     ]
    }
   ],
   "source": [
    "removed = myheap.remove()\n",
    "print(f'Removed: {removed}, Heap: {myheap.heap}')  \n",
    "\n",
    "removed = myheap.remove()\n",
    "print(f'Removed: {removed}, Heap: {myheap.heap}')"
   ]
  },
  {
   "cell_type": "code",
   "execution_count": null,
   "id": "e6defffb",
   "metadata": {},
   "outputs": [],
   "source": []
  }
 ],
 "metadata": {
  "kernelspec": {
   "display_name": "Python 3 (ipykernel)",
   "language": "python",
   "name": "python3"
  },
  "language_info": {
   "codemirror_mode": {
    "name": "ipython",
    "version": 3
   },
   "file_extension": ".py",
   "mimetype": "text/x-python",
   "name": "python",
   "nbconvert_exporter": "python",
   "pygments_lexer": "ipython3",
   "version": "3.11.5"
  }
 },
 "nbformat": 4,
 "nbformat_minor": 5
}
