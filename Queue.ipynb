{
 "cells": [
  {
   "cell_type": "markdown",
   "id": "076b683a",
   "metadata": {},
   "source": [
    "## Queue Implementation"
   ]
  },
  {
   "cell_type": "code",
   "execution_count": 1,
   "id": "f84ea5ce",
   "metadata": {},
   "outputs": [],
   "source": [
    "class Node:\n",
    "    def __init__(self, value):\n",
    "        self.value = value\n",
    "        self.next = None\n",
    "        \n",
    "\n",
    "class Queue:\n",
    "    def __init__(self, value):\n",
    "        new_node = Node(value)\n",
    "        self.first = new_node\n",
    "        self.last = new_node\n",
    "        self.length = 1\n",
    "\n",
    "    def print_queue(self):\n",
    "        temp = self.first\n",
    "        while temp is not None:\n",
    "            print(temp.value)\n",
    "            temp = temp.next\n",
    "        \n",
    "    def enqueue(self, value):\n",
    "        new_node = Node(value)\n",
    "        if self.first is None:\n",
    "            self.first = new_node\n",
    "            self.last = new_node\n",
    "        else:\n",
    "            self.last.next = new_node\n",
    "            self.last = new_node\n",
    "        self.length += 1\n",
    "        return True\n",
    "\n",
    "    def dequeue(self):\n",
    "        if self.length==0:\n",
    "            return None\n",
    "        temp=self.first\n",
    "        if self.length==1:\n",
    "            self.first=None\n",
    "            self.last=None\n",
    "        else:\n",
    "            self.first=temp.next\n",
    "            temp.next=None\n",
    "        self.length-=1\n",
    "        return temp\n",
    "\n"
   ]
  },
  {
   "cell_type": "code",
   "execution_count": 2,
   "id": "749933ad",
   "metadata": {},
   "outputs": [
    {
     "name": "stdout",
     "output_type": "stream",
     "text": [
      "1\n",
      "2\n",
      "None\n"
     ]
    }
   ],
   "source": [
    "my_queue = Queue(1)\n",
    "my_queue.enqueue(2)\n",
    "\n",
    "# (2) Items - Returns 2 Node\n",
    "print(my_queue.dequeue().value)\n",
    "# (1) Item -  Returns 1 Node\n",
    "print(my_queue.dequeue().value)\n",
    "# (0) Items - Returns None\n",
    "print(my_queue.dequeue())"
   ]
  },
  {
   "cell_type": "code",
   "execution_count": null,
   "id": "7fbe9a91",
   "metadata": {},
   "outputs": [],
   "source": []
  }
 ],
 "metadata": {
  "kernelspec": {
   "display_name": "Python 3 (ipykernel)",
   "language": "python",
   "name": "python3"
  },
  "language_info": {
   "codemirror_mode": {
    "name": "ipython",
    "version": 3
   },
   "file_extension": ".py",
   "mimetype": "text/x-python",
   "name": "python",
   "nbconvert_exporter": "python",
   "pygments_lexer": "ipython3",
   "version": "3.11.5"
  }
 },
 "nbformat": 4,
 "nbformat_minor": 5
}
